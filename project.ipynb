{
 "cells": [
  {
   "cell_type": "code",
   "execution_count": 247,
   "metadata": {},
   "outputs": [],
   "source": [
    "import pandas as pd\n",
    "import numpy as np\n",
    "import matplotlib.pyplot as plt\n",
    "import seaborn as sns\n",
    "%matplotlib inline"
   ]
  },
  {
   "cell_type": "code",
   "execution_count": 248,
   "metadata": {},
   "outputs": [
    {
     "name": "stderr",
     "output_type": "stream",
     "text": [
      "/Users/wensun/opt/anaconda3/lib/python3.8/site-packages/IPython/core/interactiveshell.py:3146: DtypeWarning: Columns (0,138,139,140) have mixed types.Specify dtype option on import or set low_memory=False.\n",
      "  has_raised = await self.run_ast_nodes(code_ast.body, cell_name,\n"
     ]
    }
   ],
   "source": [
    "loan=pd.read_csv(\"LoanStats_2019Q1.csv\")"
   ]
  },
  {
   "cell_type": "markdown",
   "metadata": {},
   "source": [
    "# Data Overview"
   ]
  },
  {
   "cell_type": "markdown",
   "metadata": {},
   "source": [
    "Check structure of the data"
   ]
  },
  {
   "cell_type": "code",
   "execution_count": 313,
   "metadata": {},
   "outputs": [
    {
     "name": "stdout",
     "output_type": "stream",
     "text": [
      "<class 'pandas.core.frame.DataFrame'>\n",
      "RangeIndex: 115679 entries, 0 to 115678\n",
      "Columns: 144 entries, id to settlement_term\n",
      "dtypes: float64(114), object(30)\n",
      "memory usage: 127.1+ MB\n"
     ]
    }
   ],
   "source": [
    "loan.info()"
   ]
  },
  {
   "cell_type": "code",
   "execution_count": 250,
   "metadata": {},
   "outputs": [
    {
     "data": {
      "text/html": [
       "<div>\n",
       "<style scoped>\n",
       "    .dataframe tbody tr th:only-of-type {\n",
       "        vertical-align: middle;\n",
       "    }\n",
       "\n",
       "    .dataframe tbody tr th {\n",
       "        vertical-align: top;\n",
       "    }\n",
       "\n",
       "    .dataframe thead th {\n",
       "        text-align: right;\n",
       "    }\n",
       "</style>\n",
       "<table border=\"1\" class=\"dataframe\">\n",
       "  <thead>\n",
       "    <tr style=\"text-align: right;\">\n",
       "      <th></th>\n",
       "      <th>id</th>\n",
       "      <th>member_id</th>\n",
       "      <th>loan_amnt</th>\n",
       "      <th>funded_amnt</th>\n",
       "      <th>funded_amnt_inv</th>\n",
       "      <th>term</th>\n",
       "      <th>int_rate</th>\n",
       "      <th>installment</th>\n",
       "      <th>grade</th>\n",
       "      <th>sub_grade</th>\n",
       "      <th>...</th>\n",
       "      <th>orig_projected_additional_accrued_interest</th>\n",
       "      <th>hardship_payoff_balance_amount</th>\n",
       "      <th>hardship_last_payment_amount</th>\n",
       "      <th>debt_settlement_flag</th>\n",
       "      <th>debt_settlement_flag_date</th>\n",
       "      <th>settlement_status</th>\n",
       "      <th>settlement_date</th>\n",
       "      <th>settlement_amount</th>\n",
       "      <th>settlement_percentage</th>\n",
       "      <th>settlement_term</th>\n",
       "    </tr>\n",
       "  </thead>\n",
       "  <tbody>\n",
       "    <tr>\n",
       "      <th>0</th>\n",
       "      <td>NaN</td>\n",
       "      <td>NaN</td>\n",
       "      <td>20000.0</td>\n",
       "      <td>20000.0</td>\n",
       "      <td>20000.0</td>\n",
       "      <td>60 months</td>\n",
       "      <td>17.19%</td>\n",
       "      <td>499.10</td>\n",
       "      <td>C</td>\n",
       "      <td>C5</td>\n",
       "      <td>...</td>\n",
       "      <td>NaN</td>\n",
       "      <td>NaN</td>\n",
       "      <td>NaN</td>\n",
       "      <td>N</td>\n",
       "      <td>NaN</td>\n",
       "      <td>NaN</td>\n",
       "      <td>NaN</td>\n",
       "      <td>NaN</td>\n",
       "      <td>NaN</td>\n",
       "      <td>NaN</td>\n",
       "    </tr>\n",
       "    <tr>\n",
       "      <th>1</th>\n",
       "      <td>NaN</td>\n",
       "      <td>NaN</td>\n",
       "      <td>21225.0</td>\n",
       "      <td>21225.0</td>\n",
       "      <td>21225.0</td>\n",
       "      <td>60 months</td>\n",
       "      <td>14.74%</td>\n",
       "      <td>502.05</td>\n",
       "      <td>C</td>\n",
       "      <td>C2</td>\n",
       "      <td>...</td>\n",
       "      <td>NaN</td>\n",
       "      <td>NaN</td>\n",
       "      <td>NaN</td>\n",
       "      <td>N</td>\n",
       "      <td>NaN</td>\n",
       "      <td>NaN</td>\n",
       "      <td>NaN</td>\n",
       "      <td>NaN</td>\n",
       "      <td>NaN</td>\n",
       "      <td>NaN</td>\n",
       "    </tr>\n",
       "    <tr>\n",
       "      <th>2</th>\n",
       "      <td>NaN</td>\n",
       "      <td>NaN</td>\n",
       "      <td>5000.0</td>\n",
       "      <td>5000.0</td>\n",
       "      <td>5000.0</td>\n",
       "      <td>36 months</td>\n",
       "      <td>17.97%</td>\n",
       "      <td>180.69</td>\n",
       "      <td>D</td>\n",
       "      <td>D1</td>\n",
       "      <td>...</td>\n",
       "      <td>NaN</td>\n",
       "      <td>NaN</td>\n",
       "      <td>NaN</td>\n",
       "      <td>N</td>\n",
       "      <td>NaN</td>\n",
       "      <td>NaN</td>\n",
       "      <td>NaN</td>\n",
       "      <td>NaN</td>\n",
       "      <td>NaN</td>\n",
       "      <td>NaN</td>\n",
       "    </tr>\n",
       "    <tr>\n",
       "      <th>3</th>\n",
       "      <td>NaN</td>\n",
       "      <td>NaN</td>\n",
       "      <td>20000.0</td>\n",
       "      <td>20000.0</td>\n",
       "      <td>20000.0</td>\n",
       "      <td>36 months</td>\n",
       "      <td>8.19%</td>\n",
       "      <td>628.49</td>\n",
       "      <td>A</td>\n",
       "      <td>A4</td>\n",
       "      <td>...</td>\n",
       "      <td>NaN</td>\n",
       "      <td>NaN</td>\n",
       "      <td>NaN</td>\n",
       "      <td>N</td>\n",
       "      <td>NaN</td>\n",
       "      <td>NaN</td>\n",
       "      <td>NaN</td>\n",
       "      <td>NaN</td>\n",
       "      <td>NaN</td>\n",
       "      <td>NaN</td>\n",
       "    </tr>\n",
       "    <tr>\n",
       "      <th>4</th>\n",
       "      <td>NaN</td>\n",
       "      <td>NaN</td>\n",
       "      <td>13500.0</td>\n",
       "      <td>13500.0</td>\n",
       "      <td>13500.0</td>\n",
       "      <td>36 months</td>\n",
       "      <td>7.56%</td>\n",
       "      <td>420.31</td>\n",
       "      <td>A</td>\n",
       "      <td>A3</td>\n",
       "      <td>...</td>\n",
       "      <td>NaN</td>\n",
       "      <td>NaN</td>\n",
       "      <td>NaN</td>\n",
       "      <td>N</td>\n",
       "      <td>NaN</td>\n",
       "      <td>NaN</td>\n",
       "      <td>NaN</td>\n",
       "      <td>NaN</td>\n",
       "      <td>NaN</td>\n",
       "      <td>NaN</td>\n",
       "    </tr>\n",
       "  </tbody>\n",
       "</table>\n",
       "<p>5 rows × 144 columns</p>\n",
       "</div>"
      ],
      "text/plain": [
       "    id  member_id  loan_amnt  funded_amnt  funded_amnt_inv        term  \\\n",
       "0  NaN        NaN    20000.0      20000.0          20000.0   60 months   \n",
       "1  NaN        NaN    21225.0      21225.0          21225.0   60 months   \n",
       "2  NaN        NaN     5000.0       5000.0           5000.0   36 months   \n",
       "3  NaN        NaN    20000.0      20000.0          20000.0   36 months   \n",
       "4  NaN        NaN    13500.0      13500.0          13500.0   36 months   \n",
       "\n",
       "  int_rate  installment grade sub_grade  ...  \\\n",
       "0   17.19%       499.10     C        C5  ...   \n",
       "1   14.74%       502.05     C        C2  ...   \n",
       "2   17.97%       180.69     D        D1  ...   \n",
       "3    8.19%       628.49     A        A4  ...   \n",
       "4    7.56%       420.31     A        A3  ...   \n",
       "\n",
       "  orig_projected_additional_accrued_interest hardship_payoff_balance_amount  \\\n",
       "0                                        NaN                            NaN   \n",
       "1                                        NaN                            NaN   \n",
       "2                                        NaN                            NaN   \n",
       "3                                        NaN                            NaN   \n",
       "4                                        NaN                            NaN   \n",
       "\n",
       "  hardship_last_payment_amount  debt_settlement_flag  \\\n",
       "0                          NaN                     N   \n",
       "1                          NaN                     N   \n",
       "2                          NaN                     N   \n",
       "3                          NaN                     N   \n",
       "4                          NaN                     N   \n",
       "\n",
       "  debt_settlement_flag_date settlement_status settlement_date  \\\n",
       "0                       NaN               NaN             NaN   \n",
       "1                       NaN               NaN             NaN   \n",
       "2                       NaN               NaN             NaN   \n",
       "3                       NaN               NaN             NaN   \n",
       "4                       NaN               NaN             NaN   \n",
       "\n",
       "  settlement_amount  settlement_percentage  settlement_term  \n",
       "0               NaN                    NaN              NaN  \n",
       "1               NaN                    NaN              NaN  \n",
       "2               NaN                    NaN              NaN  \n",
       "3               NaN                    NaN              NaN  \n",
       "4               NaN                    NaN              NaN  \n",
       "\n",
       "[5 rows x 144 columns]"
      ]
     },
     "execution_count": 250,
     "metadata": {},
     "output_type": "execute_result"
    }
   ],
   "source": [
    "loan.head()"
   ]
  },
  {
   "cell_type": "code",
   "execution_count": 251,
   "metadata": {},
   "outputs": [
    {
     "name": "stdout",
     "output_type": "stream",
     "text": [
      "id\n",
      "member_id\n",
      "loan_amnt\n",
      "funded_amnt\n",
      "funded_amnt_inv\n",
      "term\n",
      "int_rate\n",
      "installment\n",
      "grade\n",
      "sub_grade\n",
      "emp_title\n",
      "emp_length\n",
      "home_ownership\n",
      "annual_inc\n",
      "verification_status\n",
      "issue_d\n",
      "loan_status\n",
      "pymnt_plan\n",
      "url\n",
      "desc\n",
      "purpose\n",
      "title\n",
      "zip_code\n",
      "addr_state\n",
      "dti\n",
      "delinq_2yrs\n",
      "earliest_cr_line\n",
      "inq_last_6mths\n",
      "mths_since_last_delinq\n",
      "mths_since_last_record\n",
      "open_acc\n",
      "pub_rec\n",
      "revol_bal\n",
      "revol_util\n",
      "total_acc\n",
      "initial_list_status\n",
      "out_prncp\n",
      "out_prncp_inv\n",
      "total_pymnt\n",
      "total_pymnt_inv\n",
      "total_rec_prncp\n",
      "total_rec_int\n",
      "total_rec_late_fee\n",
      "recoveries\n",
      "collection_recovery_fee\n",
      "last_pymnt_d\n",
      "last_pymnt_amnt\n",
      "next_pymnt_d\n",
      "last_credit_pull_d\n",
      "collections_12_mths_ex_med\n",
      "mths_since_last_major_derog\n",
      "policy_code\n",
      "application_type\n",
      "annual_inc_joint\n",
      "dti_joint\n",
      "verification_status_joint\n",
      "acc_now_delinq\n",
      "tot_coll_amt\n",
      "tot_cur_bal\n",
      "open_acc_6m\n",
      "open_act_il\n",
      "open_il_12m\n",
      "open_il_24m\n",
      "mths_since_rcnt_il\n",
      "total_bal_il\n",
      "il_util\n",
      "open_rv_12m\n",
      "open_rv_24m\n",
      "max_bal_bc\n",
      "all_util\n",
      "total_rev_hi_lim\n",
      "inq_fi\n",
      "total_cu_tl\n",
      "inq_last_12m\n",
      "acc_open_past_24mths\n",
      "avg_cur_bal\n",
      "bc_open_to_buy\n",
      "bc_util\n",
      "chargeoff_within_12_mths\n",
      "delinq_amnt\n",
      "mo_sin_old_il_acct\n",
      "mo_sin_old_rev_tl_op\n",
      "mo_sin_rcnt_rev_tl_op\n",
      "mo_sin_rcnt_tl\n",
      "mort_acc\n",
      "mths_since_recent_bc\n",
      "mths_since_recent_bc_dlq\n",
      "mths_since_recent_inq\n",
      "mths_since_recent_revol_delinq\n",
      "num_accts_ever_120_pd\n",
      "num_actv_bc_tl\n",
      "num_actv_rev_tl\n",
      "num_bc_sats\n",
      "num_bc_tl\n",
      "num_il_tl\n",
      "num_op_rev_tl\n",
      "num_rev_accts\n",
      "num_rev_tl_bal_gt_0\n",
      "num_sats\n",
      "num_tl_120dpd_2m\n",
      "num_tl_30dpd\n",
      "num_tl_90g_dpd_24m\n",
      "num_tl_op_past_12m\n",
      "pct_tl_nvr_dlq\n",
      "percent_bc_gt_75\n",
      "pub_rec_bankruptcies\n",
      "tax_liens\n",
      "tot_hi_cred_lim\n",
      "total_bal_ex_mort\n",
      "total_bc_limit\n",
      "total_il_high_credit_limit\n",
      "revol_bal_joint\n",
      "sec_app_earliest_cr_line\n",
      "sec_app_inq_last_6mths\n",
      "sec_app_mort_acc\n",
      "sec_app_open_acc\n",
      "sec_app_revol_util\n",
      "sec_app_open_act_il\n",
      "sec_app_num_rev_accts\n",
      "sec_app_chargeoff_within_12_mths\n",
      "sec_app_collections_12_mths_ex_med\n",
      "sec_app_mths_since_last_major_derog\n",
      "hardship_flag\n",
      "hardship_type\n",
      "hardship_reason\n",
      "hardship_status\n",
      "deferral_term\n",
      "hardship_amount\n",
      "hardship_start_date\n",
      "hardship_end_date\n",
      "payment_plan_start_date\n",
      "hardship_length\n",
      "hardship_dpd\n",
      "hardship_loan_status\n",
      "orig_projected_additional_accrued_interest\n",
      "hardship_payoff_balance_amount\n",
      "hardship_last_payment_amount\n",
      "debt_settlement_flag\n",
      "debt_settlement_flag_date\n",
      "settlement_status\n",
      "settlement_date\n",
      "settlement_amount\n",
      "settlement_percentage\n",
      "settlement_term\n"
     ]
    }
   ],
   "source": [
    "for col in loan.columns:\n",
    "    print(col)"
   ]
  },
  {
   "cell_type": "code",
   "execution_count": 252,
   "metadata": {},
   "outputs": [
    {
     "data": {
      "text/plain": [
       "array(['Current', 'Fully Paid', 'Late (31-120 days)', 'In Grace Period',\n",
       "       'Late (16-30 days)', 'Charged Off', nan], dtype=object)"
      ]
     },
     "execution_count": 252,
     "metadata": {},
     "output_type": "execute_result"
    }
   ],
   "source": [
    "loan[\"loan_status\"].unique()"
   ]
  },
  {
   "cell_type": "markdown",
   "metadata": {},
   "source": [
    "Look at the distribution of loan amounts using bar plot"
   ]
  },
  {
   "cell_type": "code",
   "execution_count": 466,
   "metadata": {},
   "outputs": [
    {
     "data": {
      "text/plain": [
       "<AxesSubplot:xlabel='loan_status', ylabel='loan_amount'>"
      ]
     },
     "execution_count": 466,
     "metadata": {},
     "output_type": "execute_result"
    },
    {
     "data": {
      "image/png": "[encoded data removed]",
      "text/plain": [
       "<Figure size 720x288 with 1 Axes>"
      ]
     },
     "metadata": {},
     "output_type": "display_data"
    }
   ],
   "source": [
    "plt.figure(figsize=(10,4))\n",
    "sns.set_style(\"white\")\n",
    "df=loan.groupby('loan_status')['loan_amnt'].count().reset_index(name='loan_amount')\n",
    "sns.barplot(x='loan_status',y='loan_amount',data=df)"
   ]
  },
  {
   "cell_type": "code",
   "execution_count": 459,
   "metadata": {},
   "outputs": [
    {
     "data": {
      "image/png": "[encoded data removed]",
      "text/plain": [
       "<Figure size 720x288 with 1 Axes>"
      ]
     },
     "metadata": {},
     "output_type": "display_data"
    }
   ],
   "source": [
    "plt.figure(figsize=(10,4))\n",
    "n,bins,patches=plt.hist(x=loan[\"loan_amnt\"],bins=\"auto\",color='blue',alpha=0.7,rwidth=0.85)\n",
    "plt.xlabel=(\"Loan Amount\")"
   ]
  },
  {
   "cell_type": "markdown",
   "metadata": {},
   "source": [
    "combined loan amount across different loan purpose"
   ]
  },
  {
   "cell_type": "code",
   "execution_count": 471,
   "metadata": {},
   "outputs": [
    {
     "data": {
      "text/plain": [
       "<AxesSubplot:xlabel='purpose', ylabel='loan_amount'>"
      ]
     },
     "execution_count": 471,
     "metadata": {},
     "output_type": "execute_result"
    },
    {
     "data": {
      "image/png": "[encoded data removed]",
      "text/plain": [
       "<Figure size 1152x288 with 1 Axes>"
      ]
     },
     "metadata": {},
     "output_type": "display_data"
    }
   ],
   "source": [
    "plt.figure(figsize=(16,4))\n",
    "df1=loan.groupby('purpose')['loan_amnt'].sum().reset_index(name='loan_amount')\n",
    "sns.barplot(x='purpose',y='loan_amount',data=df1, order=df1.sort_values('loan_amount',ascending=False).purpose,ci=0)"
   ]
  },
  {
   "cell_type": "markdown",
   "metadata": {},
   "source": [
    "loan amount distribution within each loan category"
   ]
  },
  {
   "cell_type": "code",
   "execution_count": 256,
   "metadata": {},
   "outputs": [
    {
     "data": {
      "text/plain": [
       "<AxesSubplot:xlabel='purpose', ylabel='loan_amnt'>"
      ]
     },
     "execution_count": 256,
     "metadata": {},
     "output_type": "execute_result"
    },
    {
     "data": {
      "image/png": "[encoded data removed]",
      "text/plain": [
       "<Figure size 1152x288 with 1 Axes>"
      ]
     },
     "metadata": {},
     "output_type": "display_data"
    }
   ],
   "source": [
    "plt.figure(figsize=(16,4))\n",
    "sns.boxplot(data=loan,x=\"purpose\",y=\"loan_amnt\")"
   ]
  },
  {
   "cell_type": "markdown",
   "metadata": {},
   "source": [
    "Summary of combined loan amounts across different loan purposes and loan status"
   ]
  },
  {
   "cell_type": "code",
   "execution_count": 257,
   "metadata": {},
   "outputs": [
    {
     "data": {
      "text/html": [
       "<div>\n",
       "<style scoped>\n",
       "    .dataframe tbody tr th:only-of-type {\n",
       "        vertical-align: middle;\n",
       "    }\n",
       "\n",
       "    .dataframe tbody tr th {\n",
       "        vertical-align: top;\n",
       "    }\n",
       "\n",
       "    .dataframe thead th {\n",
       "        text-align: right;\n",
       "    }\n",
       "</style>\n",
       "<table border=\"1\" class=\"dataframe\">\n",
       "  <thead>\n",
       "    <tr style=\"text-align: right;\">\n",
       "      <th>loan_status</th>\n",
       "      <th>Charged Off</th>\n",
       "      <th>Current</th>\n",
       "      <th>Fully Paid</th>\n",
       "      <th>In Grace Period</th>\n",
       "      <th>Late (16-30 days)</th>\n",
       "      <th>Late (31-120 days)</th>\n",
       "    </tr>\n",
       "    <tr>\n",
       "      <th>purpose</th>\n",
       "      <th></th>\n",
       "      <th></th>\n",
       "      <th></th>\n",
       "      <th></th>\n",
       "      <th></th>\n",
       "      <th></th>\n",
       "    </tr>\n",
       "  </thead>\n",
       "  <tbody>\n",
       "    <tr>\n",
       "      <th>car</th>\n",
       "      <td>NaN</td>\n",
       "      <td>9.737800e+06</td>\n",
       "      <td>649725.0</td>\n",
       "      <td>18500.0</td>\n",
       "      <td>24800.0</td>\n",
       "      <td>49100.0</td>\n",
       "    </tr>\n",
       "    <tr>\n",
       "      <th>credit_card</th>\n",
       "      <td>105350.0</td>\n",
       "      <td>4.981836e+08</td>\n",
       "      <td>11079600.0</td>\n",
       "      <td>1020500.0</td>\n",
       "      <td>915750.0</td>\n",
       "      <td>1562525.0</td>\n",
       "    </tr>\n",
       "    <tr>\n",
       "      <th>debt_consolidation</th>\n",
       "      <td>757275.0</td>\n",
       "      <td>1.099742e+09</td>\n",
       "      <td>29955300.0</td>\n",
       "      <td>3544150.0</td>\n",
       "      <td>2208950.0</td>\n",
       "      <td>4936700.0</td>\n",
       "    </tr>\n",
       "    <tr>\n",
       "      <th>home_improvement</th>\n",
       "      <td>136800.0</td>\n",
       "      <td>1.023059e+08</td>\n",
       "      <td>3959475.0</td>\n",
       "      <td>382600.0</td>\n",
       "      <td>429750.0</td>\n",
       "      <td>503250.0</td>\n",
       "    </tr>\n",
       "    <tr>\n",
       "      <th>house</th>\n",
       "      <td>30000.0</td>\n",
       "      <td>1.135442e+07</td>\n",
       "      <td>888300.0</td>\n",
       "      <td>36400.0</td>\n",
       "      <td>17575.0</td>\n",
       "      <td>123300.0</td>\n",
       "    </tr>\n",
       "    <tr>\n",
       "      <th>major_purchase</th>\n",
       "      <td>33000.0</td>\n",
       "      <td>2.573800e+07</td>\n",
       "      <td>1257225.0</td>\n",
       "      <td>155200.0</td>\n",
       "      <td>99900.0</td>\n",
       "      <td>211700.0</td>\n",
       "    </tr>\n",
       "    <tr>\n",
       "      <th>medical</th>\n",
       "      <td>5000.0</td>\n",
       "      <td>1.266815e+07</td>\n",
       "      <td>432750.0</td>\n",
       "      <td>47000.0</td>\n",
       "      <td>57500.0</td>\n",
       "      <td>126000.0</td>\n",
       "    </tr>\n",
       "    <tr>\n",
       "      <th>moving</th>\n",
       "      <td>7500.0</td>\n",
       "      <td>5.350600e+06</td>\n",
       "      <td>293900.0</td>\n",
       "      <td>62600.0</td>\n",
       "      <td>59600.0</td>\n",
       "      <td>19000.0</td>\n",
       "    </tr>\n",
       "    <tr>\n",
       "      <th>other</th>\n",
       "      <td>31500.0</td>\n",
       "      <td>6.683038e+07</td>\n",
       "      <td>3276575.0</td>\n",
       "      <td>350275.0</td>\n",
       "      <td>218425.0</td>\n",
       "      <td>360975.0</td>\n",
       "    </tr>\n",
       "    <tr>\n",
       "      <th>renewable_energy</th>\n",
       "      <td>NaN</td>\n",
       "      <td>6.538000e+05</td>\n",
       "      <td>28975.0</td>\n",
       "      <td>NaN</td>\n",
       "      <td>NaN</td>\n",
       "      <td>NaN</td>\n",
       "    </tr>\n",
       "    <tr>\n",
       "      <th>small_business</th>\n",
       "      <td>18000.0</td>\n",
       "      <td>1.964175e+07</td>\n",
       "      <td>515475.0</td>\n",
       "      <td>55000.0</td>\n",
       "      <td>73325.0</td>\n",
       "      <td>162775.0</td>\n",
       "    </tr>\n",
       "    <tr>\n",
       "      <th>vacation</th>\n",
       "      <td>NaN</td>\n",
       "      <td>4.564625e+06</td>\n",
       "      <td>298900.0</td>\n",
       "      <td>NaN</td>\n",
       "      <td>13500.0</td>\n",
       "      <td>70500.0</td>\n",
       "    </tr>\n",
       "  </tbody>\n",
       "</table>\n",
       "</div>"
      ],
      "text/plain": [
       "loan_status         Charged Off       Current  Fully Paid  In Grace Period  \\\n",
       "purpose                                                                      \n",
       "car                         NaN  9.737800e+06    649725.0          18500.0   \n",
       "credit_card            105350.0  4.981836e+08  11079600.0        1020500.0   \n",
       "debt_consolidation     757275.0  1.099742e+09  29955300.0        3544150.0   \n",
       "home_improvement       136800.0  1.023059e+08   3959475.0         382600.0   \n",
       "house                   30000.0  1.135442e+07    888300.0          36400.0   \n",
       "major_purchase          33000.0  2.573800e+07   1257225.0         155200.0   \n",
       "medical                  5000.0  1.266815e+07    432750.0          47000.0   \n",
       "moving                   7500.0  5.350600e+06    293900.0          62600.0   \n",
       "other                   31500.0  6.683038e+07   3276575.0         350275.0   \n",
       "renewable_energy            NaN  6.538000e+05     28975.0              NaN   \n",
       "small_business          18000.0  1.964175e+07    515475.0          55000.0   \n",
       "vacation                    NaN  4.564625e+06    298900.0              NaN   \n",
       "\n",
       "loan_status         Late (16-30 days)  Late (31-120 days)  \n",
       "purpose                                                    \n",
       "car                           24800.0             49100.0  \n",
       "credit_card                  915750.0           1562525.0  \n",
       "debt_consolidation          2208950.0           4936700.0  \n",
       "home_improvement             429750.0            503250.0  \n",
       "house                         17575.0            123300.0  \n",
       "major_purchase                99900.0            211700.0  \n",
       "medical                       57500.0            126000.0  \n",
       "moving                        59600.0             19000.0  \n",
       "other                        218425.0            360975.0  \n",
       "renewable_energy                  NaN                 NaN  \n",
       "small_business                73325.0            162775.0  \n",
       "vacation                      13500.0             70500.0  "
      ]
     },
     "execution_count": 257,
     "metadata": {},
     "output_type": "execute_result"
    }
   ],
   "source": [
    "loan.pivot_table(index='purpose',columns='loan_status',values='loan_amnt',aggfunc='sum')"
   ]
  },
  {
   "cell_type": "markdown",
   "metadata": {},
   "source": [
    "number of loans across different loan purposes and loan status"
   ]
  },
  {
   "cell_type": "code",
   "execution_count": 258,
   "metadata": {},
   "outputs": [
    {
     "name": "stdout",
     "output_type": "stream",
     "text": [
      "loan_status         Charged Off  Current  Fully Paid  In Grace Period  \\\n",
      "purpose                                                                 \n",
      "car                           0      953          62                3   \n",
      "credit_card                   5    30754         771               64   \n",
      "debt_consolidation           64    61235        1856              193   \n",
      "home_improvement             14     6395         272               23   \n",
      "house                         3      673          59                3   \n",
      "major_purchase                4     1803          99                7   \n",
      "medical                       1     1258          58                5   \n",
      "moving                        1      525          36                4   \n",
      "other                         5     5595         312               21   \n",
      "renewable_energy              0       52           7                0   \n",
      "small_business                1     1031          31                4   \n",
      "vacation                      0      644          45                0   \n",
      "All                          98   110918        3608              327   \n",
      "\n",
      "loan_status         Late (16-30 days)  Late (31-120 days)     All  \n",
      "purpose                                                            \n",
      "car                                 2                   4    1024  \n",
      "credit_card                        59                  91   31744  \n",
      "debt_consolidation                134                 265   63747  \n",
      "home_improvement                   22                  30    6756  \n",
      "house                               1                   6     745  \n",
      "major_purchase                      5                  15    1933  \n",
      "medical                             4                   7    1333  \n",
      "moving                              4                   3     573  \n",
      "other                              18                  35    5986  \n",
      "renewable_energy                    0                   0      59  \n",
      "small_business                      5                   7    1079  \n",
      "vacation                            2                   5     696  \n",
      "All                               256                 468  115675  \n"
     ]
    }
   ],
   "source": [
    "print(pd.crosstab(index=loan[\"purpose\"],columns=loan[\"loan_status\"],margins=True))"
   ]
  },
  {
   "cell_type": "markdown",
   "metadata": {},
   "source": [
    "# Data Cleaning"
   ]
  },
  {
   "cell_type": "markdown",
   "metadata": {},
   "source": [
    "Create a separate set of features that we will work with"
   ]
  },
  {
   "cell_type": "code",
   "execution_count": 367,
   "metadata": {},
   "outputs": [],
   "source": [
    "loan_sub=loan[[\"loan_amnt\",\"int_rate\",\"emp_length\",\"annual_inc\",\"loan_status\",\"dti\",\"tax_liens\",\n",
    "\"open_acc\",'mths_since_last_delinq','purpose','home_ownership']]"
   ]
  },
  {
   "cell_type": "code",
   "execution_count": 368,
   "metadata": {},
   "outputs": [
    {
     "data": {
      "text/html": [
       "<div>\n",
       "<style scoped>\n",
       "    .dataframe tbody tr th:only-of-type {\n",
       "        vertical-align: middle;\n",
       "    }\n",
       "\n",
       "    .dataframe tbody tr th {\n",
       "        vertical-align: top;\n",
       "    }\n",
       "\n",
       "    .dataframe thead th {\n",
       "        text-align: right;\n",
       "    }\n",
       "</style>\n",
       "<table border=\"1\" class=\"dataframe\">\n",
       "  <thead>\n",
       "    <tr style=\"text-align: right;\">\n",
       "      <th></th>\n",
       "      <th>loan_amnt</th>\n",
       "      <th>int_rate</th>\n",
       "      <th>emp_length</th>\n",
       "      <th>annual_inc</th>\n",
       "      <th>loan_status</th>\n",
       "      <th>dti</th>\n",
       "      <th>tax_liens</th>\n",
       "      <th>open_acc</th>\n",
       "      <th>mths_since_last_delinq</th>\n",
       "      <th>purpose</th>\n",
       "      <th>home_ownership</th>\n",
       "    </tr>\n",
       "  </thead>\n",
       "  <tbody>\n",
       "    <tr>\n",
       "      <th>0</th>\n",
       "      <td>20000.0</td>\n",
       "      <td>17.19%</td>\n",
       "      <td>6 years</td>\n",
       "      <td>47000.0</td>\n",
       "      <td>Current</td>\n",
       "      <td>14.02</td>\n",
       "      <td>0.0</td>\n",
       "      <td>15.0</td>\n",
       "      <td>50.0</td>\n",
       "      <td>debt_consolidation</td>\n",
       "      <td>RENT</td>\n",
       "    </tr>\n",
       "    <tr>\n",
       "      <th>1</th>\n",
       "      <td>21225.0</td>\n",
       "      <td>14.74%</td>\n",
       "      <td>10+ years</td>\n",
       "      <td>225000.0</td>\n",
       "      <td>Current</td>\n",
       "      <td>16.80</td>\n",
       "      <td>0.0</td>\n",
       "      <td>14.0</td>\n",
       "      <td>NaN</td>\n",
       "      <td>credit_card</td>\n",
       "      <td>MORTGAGE</td>\n",
       "    </tr>\n",
       "    <tr>\n",
       "      <th>2</th>\n",
       "      <td>5000.0</td>\n",
       "      <td>17.97%</td>\n",
       "      <td>NaN</td>\n",
       "      <td>62000.0</td>\n",
       "      <td>Current</td>\n",
       "      <td>19.82</td>\n",
       "      <td>0.0</td>\n",
       "      <td>8.0</td>\n",
       "      <td>4.0</td>\n",
       "      <td>home_improvement</td>\n",
       "      <td>MORTGAGE</td>\n",
       "    </tr>\n",
       "    <tr>\n",
       "      <th>3</th>\n",
       "      <td>20000.0</td>\n",
       "      <td>8.19%</td>\n",
       "      <td>1 year</td>\n",
       "      <td>200000.0</td>\n",
       "      <td>Current</td>\n",
       "      <td>22.66</td>\n",
       "      <td>0.0</td>\n",
       "      <td>20.0</td>\n",
       "      <td>18.0</td>\n",
       "      <td>credit_card</td>\n",
       "      <td>MORTGAGE</td>\n",
       "    </tr>\n",
       "    <tr>\n",
       "      <th>4</th>\n",
       "      <td>13500.0</td>\n",
       "      <td>7.56%</td>\n",
       "      <td>8 years</td>\n",
       "      <td>34860.0</td>\n",
       "      <td>Current</td>\n",
       "      <td>10.91</td>\n",
       "      <td>0.0</td>\n",
       "      <td>9.0</td>\n",
       "      <td>NaN</td>\n",
       "      <td>credit_card</td>\n",
       "      <td>RENT</td>\n",
       "    </tr>\n",
       "  </tbody>\n",
       "</table>\n",
       "</div>"
      ],
      "text/plain": [
       "   loan_amnt int_rate emp_length  annual_inc loan_status    dti  tax_liens  \\\n",
       "0    20000.0   17.19%    6 years     47000.0     Current  14.02        0.0   \n",
       "1    21225.0   14.74%  10+ years    225000.0     Current  16.80        0.0   \n",
       "2     5000.0   17.97%        NaN     62000.0     Current  19.82        0.0   \n",
       "3    20000.0    8.19%     1 year    200000.0     Current  22.66        0.0   \n",
       "4    13500.0    7.56%    8 years     34860.0     Current  10.91        0.0   \n",
       "\n",
       "   open_acc  mths_since_last_delinq             purpose home_ownership  \n",
       "0      15.0                    50.0  debt_consolidation           RENT  \n",
       "1      14.0                     NaN         credit_card       MORTGAGE  \n",
       "2       8.0                     4.0    home_improvement       MORTGAGE  \n",
       "3      20.0                    18.0         credit_card       MORTGAGE  \n",
       "4       9.0                     NaN         credit_card           RENT  "
      ]
     },
     "execution_count": 368,
     "metadata": {},
     "output_type": "execute_result"
    }
   ],
   "source": [
    "loan_sub.head()"
   ]
  },
  {
   "cell_type": "code",
   "execution_count": 369,
   "metadata": {},
   "outputs": [
    {
     "data": {
      "text/plain": [
       "(115679, 11)"
      ]
     },
     "execution_count": 369,
     "metadata": {},
     "output_type": "execute_result"
    }
   ],
   "source": [
    "loan_sub.shape"
   ]
  },
  {
   "cell_type": "markdown",
   "metadata": {},
   "source": [
    "Cleaning:\n",
    "1. categorize loan status to default and non-default\n",
    "2. covert emp_length from variable variable to numeric variable\n",
    "3. drop N/A values from fields\n",
    "4. transform mths_since_last_delinq to categorical data: had deliquency record in past 36 months v.s. no deliquency record during past 36 months\n",
    "5. convert int_rate to numeric variable"
   ]
  },
  {
   "cell_type": "code",
   "execution_count": 370,
   "metadata": {},
   "outputs": [],
   "source": [
    "loan_sub.dropna(subset=['loan_status'],inplace=True)"
   ]
  },
  {
   "cell_type": "code",
   "execution_count": 371,
   "metadata": {},
   "outputs": [],
   "source": [
    "loan_sub['loan_status']=loan_sub['loan_status'].apply(lambda x: 0 if x=='Fully Paid' or x=='Current' else 1)"
   ]
  },
  {
   "cell_type": "code",
   "execution_count": 372,
   "metadata": {},
   "outputs": [],
   "source": [
    "loan_sub.reset_index(drop=True, inplace=True)"
   ]
  },
  {
   "cell_type": "code",
   "execution_count": 373,
   "metadata": {},
   "outputs": [
    {
     "data": {
      "text/plain": [
       "Text(0, 0.5, '% of loan status')"
      ]
     },
     "execution_count": 373,
     "metadata": {},
     "output_type": "execute_result"
    },
    {
     "data": {
      "image/png": "[encoded data removed]",
      "text/plain": [
       "<Figure size 432x288 with 1 Axes>"
      ]
     },
     "metadata": {},
     "output_type": "display_data"
    }
   ],
   "source": [
    "fig = plt.figure()\n",
    "axes = fig.add_axes([0.1, 0.1, 0.8, 0.8]) \n",
    "loan_sub[\"loan_status\"].value_counts().plot.pie(explode=[0,0.25], autopct='%1.2f%%', colors=colors, \n",
    "                                             labels=labels, fontsize=12, startangle=70)\n",
    "axes.set_ylabel('% of loan status',fontsize=14)"
   ]
  },
  {
   "cell_type": "code",
   "execution_count": 374,
   "metadata": {},
   "outputs": [],
   "source": [
    "loan_sub['emp_length'].fillna(\"0 year\",inplace=True)"
   ]
  },
  {
   "cell_type": "code",
   "execution_count": 375,
   "metadata": {},
   "outputs": [
    {
     "data": {
      "text/html": [
       "<div>\n",
       "<style scoped>\n",
       "    .dataframe tbody tr th:only-of-type {\n",
       "        vertical-align: middle;\n",
       "    }\n",
       "\n",
       "    .dataframe tbody tr th {\n",
       "        vertical-align: top;\n",
       "    }\n",
       "\n",
       "    .dataframe thead th {\n",
       "        text-align: right;\n",
       "    }\n",
       "</style>\n",
       "<table border=\"1\" class=\"dataframe\">\n",
       "  <thead>\n",
       "    <tr style=\"text-align: right;\">\n",
       "      <th></th>\n",
       "      <th>loan_amnt</th>\n",
       "      <th>int_rate</th>\n",
       "      <th>emp_length</th>\n",
       "      <th>annual_inc</th>\n",
       "      <th>loan_status</th>\n",
       "      <th>dti</th>\n",
       "      <th>tax_liens</th>\n",
       "      <th>open_acc</th>\n",
       "      <th>mths_since_last_delinq</th>\n",
       "      <th>purpose</th>\n",
       "      <th>home_ownership</th>\n",
       "    </tr>\n",
       "  </thead>\n",
       "  <tbody>\n",
       "    <tr>\n",
       "      <th>0</th>\n",
       "      <td>20000.0</td>\n",
       "      <td>17.19%</td>\n",
       "      <td>6 years</td>\n",
       "      <td>47000.0</td>\n",
       "      <td>0</td>\n",
       "      <td>14.02</td>\n",
       "      <td>0.0</td>\n",
       "      <td>15.0</td>\n",
       "      <td>50.0</td>\n",
       "      <td>debt_consolidation</td>\n",
       "      <td>RENT</td>\n",
       "    </tr>\n",
       "    <tr>\n",
       "      <th>1</th>\n",
       "      <td>21225.0</td>\n",
       "      <td>14.74%</td>\n",
       "      <td>10+ years</td>\n",
       "      <td>225000.0</td>\n",
       "      <td>0</td>\n",
       "      <td>16.80</td>\n",
       "      <td>0.0</td>\n",
       "      <td>14.0</td>\n",
       "      <td>NaN</td>\n",
       "      <td>credit_card</td>\n",
       "      <td>MORTGAGE</td>\n",
       "    </tr>\n",
       "    <tr>\n",
       "      <th>2</th>\n",
       "      <td>5000.0</td>\n",
       "      <td>17.97%</td>\n",
       "      <td>0 year</td>\n",
       "      <td>62000.0</td>\n",
       "      <td>0</td>\n",
       "      <td>19.82</td>\n",
       "      <td>0.0</td>\n",
       "      <td>8.0</td>\n",
       "      <td>4.0</td>\n",
       "      <td>home_improvement</td>\n",
       "      <td>MORTGAGE</td>\n",
       "    </tr>\n",
       "    <tr>\n",
       "      <th>3</th>\n",
       "      <td>20000.0</td>\n",
       "      <td>8.19%</td>\n",
       "      <td>1 year</td>\n",
       "      <td>200000.0</td>\n",
       "      <td>0</td>\n",
       "      <td>22.66</td>\n",
       "      <td>0.0</td>\n",
       "      <td>20.0</td>\n",
       "      <td>18.0</td>\n",
       "      <td>credit_card</td>\n",
       "      <td>MORTGAGE</td>\n",
       "    </tr>\n",
       "    <tr>\n",
       "      <th>4</th>\n",
       "      <td>13500.0</td>\n",
       "      <td>7.56%</td>\n",
       "      <td>8 years</td>\n",
       "      <td>34860.0</td>\n",
       "      <td>0</td>\n",
       "      <td>10.91</td>\n",
       "      <td>0.0</td>\n",
       "      <td>9.0</td>\n",
       "      <td>NaN</td>\n",
       "      <td>credit_card</td>\n",
       "      <td>RENT</td>\n",
       "    </tr>\n",
       "  </tbody>\n",
       "</table>\n",
       "</div>"
      ],
      "text/plain": [
       "   loan_amnt int_rate emp_length  annual_inc  loan_status    dti  tax_liens  \\\n",
       "0    20000.0   17.19%    6 years     47000.0            0  14.02        0.0   \n",
       "1    21225.0   14.74%  10+ years    225000.0            0  16.80        0.0   \n",
       "2     5000.0   17.97%     0 year     62000.0            0  19.82        0.0   \n",
       "3    20000.0    8.19%     1 year    200000.0            0  22.66        0.0   \n",
       "4    13500.0    7.56%    8 years     34860.0            0  10.91        0.0   \n",
       "\n",
       "   open_acc  mths_since_last_delinq             purpose home_ownership  \n",
       "0      15.0                    50.0  debt_consolidation           RENT  \n",
       "1      14.0                     NaN         credit_card       MORTGAGE  \n",
       "2       8.0                     4.0    home_improvement       MORTGAGE  \n",
       "3      20.0                    18.0         credit_card       MORTGAGE  \n",
       "4       9.0                     NaN         credit_card           RENT  "
      ]
     },
     "execution_count": 375,
     "metadata": {},
     "output_type": "execute_result"
    }
   ],
   "source": [
    "loan_sub.head()"
   ]
  },
  {
   "cell_type": "code",
   "execution_count": 376,
   "metadata": {},
   "outputs": [],
   "source": [
    "for i in range(len(loan_sub['emp_length'])):\n",
    "    if loan_sub['emp_length'][i]=='10+ years':\n",
    "        loan_sub['emp_length'][i]=10\n",
    "    elif loan_sub['emp_length'][i]=='< 1 year':\n",
    "        loan_sub['emp_length'][i]=1\n",
    "    else:\n",
    "        loan_sub['emp_length'][i]=loan_sub['emp_length'][i][0]\n"
   ]
  },
  {
   "cell_type": "code",
   "execution_count": 377,
   "metadata": {},
   "outputs": [],
   "source": [
    "loan_sub['emp_length']=pd.to_numeric(loan_sub['emp_length'])"
   ]
  },
  {
   "cell_type": "code",
   "execution_count": 378,
   "metadata": {},
   "outputs": [
    {
     "data": {
      "text/html": [
       "<div>\n",
       "<style scoped>\n",
       "    .dataframe tbody tr th:only-of-type {\n",
       "        vertical-align: middle;\n",
       "    }\n",
       "\n",
       "    .dataframe tbody tr th {\n",
       "        vertical-align: top;\n",
       "    }\n",
       "\n",
       "    .dataframe thead th {\n",
       "        text-align: right;\n",
       "    }\n",
       "</style>\n",
       "<table border=\"1\" class=\"dataframe\">\n",
       "  <thead>\n",
       "    <tr style=\"text-align: right;\">\n",
       "      <th></th>\n",
       "      <th>loan_amnt</th>\n",
       "      <th>int_rate</th>\n",
       "      <th>emp_length</th>\n",
       "      <th>annual_inc</th>\n",
       "      <th>loan_status</th>\n",
       "      <th>dti</th>\n",
       "      <th>tax_liens</th>\n",
       "      <th>open_acc</th>\n",
       "      <th>mths_since_last_delinq</th>\n",
       "      <th>purpose</th>\n",
       "      <th>home_ownership</th>\n",
       "    </tr>\n",
       "  </thead>\n",
       "  <tbody>\n",
       "    <tr>\n",
       "      <th>0</th>\n",
       "      <td>20000.0</td>\n",
       "      <td>17.19%</td>\n",
       "      <td>6</td>\n",
       "      <td>47000.0</td>\n",
       "      <td>0</td>\n",
       "      <td>14.02</td>\n",
       "      <td>0.0</td>\n",
       "      <td>15.0</td>\n",
       "      <td>50.0</td>\n",
       "      <td>debt_consolidation</td>\n",
       "      <td>RENT</td>\n",
       "    </tr>\n",
       "    <tr>\n",
       "      <th>1</th>\n",
       "      <td>21225.0</td>\n",
       "      <td>14.74%</td>\n",
       "      <td>10</td>\n",
       "      <td>225000.0</td>\n",
       "      <td>0</td>\n",
       "      <td>16.80</td>\n",
       "      <td>0.0</td>\n",
       "      <td>14.0</td>\n",
       "      <td>NaN</td>\n",
       "      <td>credit_card</td>\n",
       "      <td>MORTGAGE</td>\n",
       "    </tr>\n",
       "    <tr>\n",
       "      <th>2</th>\n",
       "      <td>5000.0</td>\n",
       "      <td>17.97%</td>\n",
       "      <td>0</td>\n",
       "      <td>62000.0</td>\n",
       "      <td>0</td>\n",
       "      <td>19.82</td>\n",
       "      <td>0.0</td>\n",
       "      <td>8.0</td>\n",
       "      <td>4.0</td>\n",
       "      <td>home_improvement</td>\n",
       "      <td>MORTGAGE</td>\n",
       "    </tr>\n",
       "    <tr>\n",
       "      <th>3</th>\n",
       "      <td>20000.0</td>\n",
       "      <td>8.19%</td>\n",
       "      <td>1</td>\n",
       "      <td>200000.0</td>\n",
       "      <td>0</td>\n",
       "      <td>22.66</td>\n",
       "      <td>0.0</td>\n",
       "      <td>20.0</td>\n",
       "      <td>18.0</td>\n",
       "      <td>credit_card</td>\n",
       "      <td>MORTGAGE</td>\n",
       "    </tr>\n",
       "    <tr>\n",
       "      <th>4</th>\n",
       "      <td>13500.0</td>\n",
       "      <td>7.56%</td>\n",
       "      <td>8</td>\n",
       "      <td>34860.0</td>\n",
       "      <td>0</td>\n",
       "      <td>10.91</td>\n",
       "      <td>0.0</td>\n",
       "      <td>9.0</td>\n",
       "      <td>NaN</td>\n",
       "      <td>credit_card</td>\n",
       "      <td>RENT</td>\n",
       "    </tr>\n",
       "  </tbody>\n",
       "</table>\n",
       "</div>"
      ],
      "text/plain": [
       "   loan_amnt int_rate  emp_length  annual_inc  loan_status    dti  tax_liens  \\\n",
       "0    20000.0   17.19%           6     47000.0            0  14.02        0.0   \n",
       "1    21225.0   14.74%          10    225000.0            0  16.80        0.0   \n",
       "2     5000.0   17.97%           0     62000.0            0  19.82        0.0   \n",
       "3    20000.0    8.19%           1    200000.0            0  22.66        0.0   \n",
       "4    13500.0    7.56%           8     34860.0            0  10.91        0.0   \n",
       "\n",
       "   open_acc  mths_since_last_delinq             purpose home_ownership  \n",
       "0      15.0                    50.0  debt_consolidation           RENT  \n",
       "1      14.0                     NaN         credit_card       MORTGAGE  \n",
       "2       8.0                     4.0    home_improvement       MORTGAGE  \n",
       "3      20.0                    18.0         credit_card       MORTGAGE  \n",
       "4       9.0                     NaN         credit_card           RENT  "
      ]
     },
     "execution_count": 378,
     "metadata": {},
     "output_type": "execute_result"
    }
   ],
   "source": [
    "loan_sub.head()"
   ]
  },
  {
   "cell_type": "code",
   "execution_count": 379,
   "metadata": {},
   "outputs": [
    {
     "name": "stdout",
     "output_type": "stream",
     "text": [
      "<class 'pandas.core.frame.DataFrame'>\n",
      "RangeIndex: 115675 entries, 0 to 115674\n",
      "Data columns (total 11 columns):\n",
      " #   Column                  Non-Null Count   Dtype  \n",
      "---  ------                  --------------   -----  \n",
      " 0   loan_amnt               115675 non-null  float64\n",
      " 1   int_rate                115675 non-null  object \n",
      " 2   emp_length              115675 non-null  int64  \n",
      " 3   annual_inc              115675 non-null  float64\n",
      " 4   loan_status             115675 non-null  int64  \n",
      " 5   dti                     115418 non-null  float64\n",
      " 6   tax_liens               115675 non-null  float64\n",
      " 7   open_acc                115675 non-null  float64\n",
      " 8   mths_since_last_delinq  49876 non-null   float64\n",
      " 9   purpose                 115675 non-null  object \n",
      " 10  home_ownership          115675 non-null  object \n",
      "dtypes: float64(6), int64(2), object(3)\n",
      "memory usage: 9.7+ MB\n"
     ]
    }
   ],
   "source": [
    "loan_sub.info()"
   ]
  },
  {
   "cell_type": "code",
   "execution_count": 380,
   "metadata": {},
   "outputs": [],
   "source": [
    "loan_sub.drop(loan_sub[loan_sub[\"dti\"].isnull()].index,inplace=True)"
   ]
  },
  {
   "cell_type": "code",
   "execution_count": 381,
   "metadata": {},
   "outputs": [],
   "source": [
    "loan_sub['delinq_last_3_year'] = np.where(loan_sub['mths_since_last_delinq']<36, \"Y\", \"N\")"
   ]
  },
  {
   "cell_type": "code",
   "execution_count": 382,
   "metadata": {},
   "outputs": [],
   "source": [
    "loan_sub.drop('mths_since_last_delinq',axis=1,inplace=True)"
   ]
  },
  {
   "cell_type": "code",
   "execution_count": 383,
   "metadata": {},
   "outputs": [],
   "source": [
    "loan_sub['int_rate']=loan_sub['int_rate'].str.replace('%','')"
   ]
  },
  {
   "cell_type": "code",
   "execution_count": 384,
   "metadata": {},
   "outputs": [],
   "source": [
    "loan_sub['int_rate']=pd.to_numeric(loan_sub['int_rate'])"
   ]
  },
  {
   "cell_type": "code",
   "execution_count": 385,
   "metadata": {},
   "outputs": [
    {
     "data": {
      "text/html": [
       "<div>\n",
       "<style scoped>\n",
       "    .dataframe tbody tr th:only-of-type {\n",
       "        vertical-align: middle;\n",
       "    }\n",
       "\n",
       "    .dataframe tbody tr th {\n",
       "        vertical-align: top;\n",
       "    }\n",
       "\n",
       "    .dataframe thead th {\n",
       "        text-align: right;\n",
       "    }\n",
       "</style>\n",
       "<table border=\"1\" class=\"dataframe\">\n",
       "  <thead>\n",
       "    <tr style=\"text-align: right;\">\n",
       "      <th></th>\n",
       "      <th>loan_amnt</th>\n",
       "      <th>int_rate</th>\n",
       "      <th>emp_length</th>\n",
       "      <th>annual_inc</th>\n",
       "      <th>loan_status</th>\n",
       "      <th>dti</th>\n",
       "      <th>tax_liens</th>\n",
       "      <th>open_acc</th>\n",
       "      <th>purpose</th>\n",
       "      <th>home_ownership</th>\n",
       "      <th>delinq_last_3_year</th>\n",
       "    </tr>\n",
       "  </thead>\n",
       "  <tbody>\n",
       "    <tr>\n",
       "      <th>0</th>\n",
       "      <td>20000.0</td>\n",
       "      <td>17.19</td>\n",
       "      <td>6</td>\n",
       "      <td>47000.0</td>\n",
       "      <td>0</td>\n",
       "      <td>14.02</td>\n",
       "      <td>0.0</td>\n",
       "      <td>15.0</td>\n",
       "      <td>debt_consolidation</td>\n",
       "      <td>RENT</td>\n",
       "      <td>N</td>\n",
       "    </tr>\n",
       "    <tr>\n",
       "      <th>1</th>\n",
       "      <td>21225.0</td>\n",
       "      <td>14.74</td>\n",
       "      <td>10</td>\n",
       "      <td>225000.0</td>\n",
       "      <td>0</td>\n",
       "      <td>16.80</td>\n",
       "      <td>0.0</td>\n",
       "      <td>14.0</td>\n",
       "      <td>credit_card</td>\n",
       "      <td>MORTGAGE</td>\n",
       "      <td>N</td>\n",
       "    </tr>\n",
       "    <tr>\n",
       "      <th>2</th>\n",
       "      <td>5000.0</td>\n",
       "      <td>17.97</td>\n",
       "      <td>0</td>\n",
       "      <td>62000.0</td>\n",
       "      <td>0</td>\n",
       "      <td>19.82</td>\n",
       "      <td>0.0</td>\n",
       "      <td>8.0</td>\n",
       "      <td>home_improvement</td>\n",
       "      <td>MORTGAGE</td>\n",
       "      <td>Y</td>\n",
       "    </tr>\n",
       "    <tr>\n",
       "      <th>3</th>\n",
       "      <td>20000.0</td>\n",
       "      <td>8.19</td>\n",
       "      <td>1</td>\n",
       "      <td>200000.0</td>\n",
       "      <td>0</td>\n",
       "      <td>22.66</td>\n",
       "      <td>0.0</td>\n",
       "      <td>20.0</td>\n",
       "      <td>credit_card</td>\n",
       "      <td>MORTGAGE</td>\n",
       "      <td>Y</td>\n",
       "    </tr>\n",
       "    <tr>\n",
       "      <th>4</th>\n",
       "      <td>13500.0</td>\n",
       "      <td>7.56</td>\n",
       "      <td>8</td>\n",
       "      <td>34860.0</td>\n",
       "      <td>0</td>\n",
       "      <td>10.91</td>\n",
       "      <td>0.0</td>\n",
       "      <td>9.0</td>\n",
       "      <td>credit_card</td>\n",
       "      <td>RENT</td>\n",
       "      <td>N</td>\n",
       "    </tr>\n",
       "  </tbody>\n",
       "</table>\n",
       "</div>"
      ],
      "text/plain": [
       "   loan_amnt  int_rate  emp_length  annual_inc  loan_status    dti  tax_liens  \\\n",
       "0    20000.0     17.19           6     47000.0            0  14.02        0.0   \n",
       "1    21225.0     14.74          10    225000.0            0  16.80        0.0   \n",
       "2     5000.0     17.97           0     62000.0            0  19.82        0.0   \n",
       "3    20000.0      8.19           1    200000.0            0  22.66        0.0   \n",
       "4    13500.0      7.56           8     34860.0            0  10.91        0.0   \n",
       "\n",
       "   open_acc             purpose home_ownership delinq_last_3_year  \n",
       "0      15.0  debt_consolidation           RENT                  N  \n",
       "1      14.0         credit_card       MORTGAGE                  N  \n",
       "2       8.0    home_improvement       MORTGAGE                  Y  \n",
       "3      20.0         credit_card       MORTGAGE                  Y  \n",
       "4       9.0         credit_card           RENT                  N  "
      ]
     },
     "execution_count": 385,
     "metadata": {},
     "output_type": "execute_result"
    }
   ],
   "source": [
    "loan_sub.head()"
   ]
  },
  {
   "cell_type": "code",
   "execution_count": 386,
   "metadata": {},
   "outputs": [
    {
     "name": "stdout",
     "output_type": "stream",
     "text": [
      "<class 'pandas.core.frame.DataFrame'>\n",
      "Int64Index: 115418 entries, 0 to 115674\n",
      "Data columns (total 11 columns):\n",
      " #   Column              Non-Null Count   Dtype  \n",
      "---  ------              --------------   -----  \n",
      " 0   loan_amnt           115418 non-null  float64\n",
      " 1   int_rate            115418 non-null  float64\n",
      " 2   emp_length          115418 non-null  int64  \n",
      " 3   annual_inc          115418 non-null  float64\n",
      " 4   loan_status         115418 non-null  int64  \n",
      " 5   dti                 115418 non-null  float64\n",
      " 6   tax_liens           115418 non-null  float64\n",
      " 7   open_acc            115418 non-null  float64\n",
      " 8   purpose             115418 non-null  object \n",
      " 9   home_ownership      115418 non-null  object \n",
      " 10  delinq_last_3_year  115418 non-null  object \n",
      "dtypes: float64(6), int64(2), object(3)\n",
      "memory usage: 10.6+ MB\n"
     ]
    }
   ],
   "source": [
    "loan_sub.info()"
   ]
  },
  {
   "cell_type": "markdown",
   "metadata": {},
   "source": [
    "# Data Preparation - Get dummy variables"
   ]
  },
  {
   "cell_type": "code",
   "execution_count": 387,
   "metadata": {},
   "outputs": [],
   "source": [
    "df_num=loan_sub.select_dtypes(exclude=['object'])\n",
    "df_cat=loan_sub.select_dtypes(include=['object'])\n",
    "df_cat_onehot=pd.get_dummies(df_cat)\n",
    "loan_final=pd.concat([df_num,df_cat_onehot],axis=1)"
   ]
  },
  {
   "cell_type": "code",
   "execution_count": 388,
   "metadata": {},
   "outputs": [
    {
     "data": {
      "text/html": [
       "<div>\n",
       "<style scoped>\n",
       "    .dataframe tbody tr th:only-of-type {\n",
       "        vertical-align: middle;\n",
       "    }\n",
       "\n",
       "    .dataframe tbody tr th {\n",
       "        vertical-align: top;\n",
       "    }\n",
       "\n",
       "    .dataframe thead th {\n",
       "        text-align: right;\n",
       "    }\n",
       "</style>\n",
       "<table border=\"1\" class=\"dataframe\">\n",
       "  <thead>\n",
       "    <tr style=\"text-align: right;\">\n",
       "      <th></th>\n",
       "      <th>loan_amnt</th>\n",
       "      <th>int_rate</th>\n",
       "      <th>emp_length</th>\n",
       "      <th>annual_inc</th>\n",
       "      <th>loan_status</th>\n",
       "      <th>dti</th>\n",
       "      <th>tax_liens</th>\n",
       "      <th>open_acc</th>\n",
       "      <th>purpose_car</th>\n",
       "      <th>purpose_credit_card</th>\n",
       "      <th>...</th>\n",
       "      <th>purpose_renewable_energy</th>\n",
       "      <th>purpose_small_business</th>\n",
       "      <th>purpose_vacation</th>\n",
       "      <th>home_ownership_ANY</th>\n",
       "      <th>home_ownership_MORTGAGE</th>\n",
       "      <th>home_ownership_NONE</th>\n",
       "      <th>home_ownership_OWN</th>\n",
       "      <th>home_ownership_RENT</th>\n",
       "      <th>delinq_last_3_year_N</th>\n",
       "      <th>delinq_last_3_year_Y</th>\n",
       "    </tr>\n",
       "  </thead>\n",
       "  <tbody>\n",
       "    <tr>\n",
       "      <th>0</th>\n",
       "      <td>20000.0</td>\n",
       "      <td>17.19</td>\n",
       "      <td>6</td>\n",
       "      <td>47000.0</td>\n",
       "      <td>0</td>\n",
       "      <td>14.02</td>\n",
       "      <td>0.0</td>\n",
       "      <td>15.0</td>\n",
       "      <td>0</td>\n",
       "      <td>0</td>\n",
       "      <td>...</td>\n",
       "      <td>0</td>\n",
       "      <td>0</td>\n",
       "      <td>0</td>\n",
       "      <td>0</td>\n",
       "      <td>0</td>\n",
       "      <td>0</td>\n",
       "      <td>0</td>\n",
       "      <td>1</td>\n",
       "      <td>1</td>\n",
       "      <td>0</td>\n",
       "    </tr>\n",
       "    <tr>\n",
       "      <th>1</th>\n",
       "      <td>21225.0</td>\n",
       "      <td>14.74</td>\n",
       "      <td>10</td>\n",
       "      <td>225000.0</td>\n",
       "      <td>0</td>\n",
       "      <td>16.80</td>\n",
       "      <td>0.0</td>\n",
       "      <td>14.0</td>\n",
       "      <td>0</td>\n",
       "      <td>1</td>\n",
       "      <td>...</td>\n",
       "      <td>0</td>\n",
       "      <td>0</td>\n",
       "      <td>0</td>\n",
       "      <td>0</td>\n",
       "      <td>1</td>\n",
       "      <td>0</td>\n",
       "      <td>0</td>\n",
       "      <td>0</td>\n",
       "      <td>1</td>\n",
       "      <td>0</td>\n",
       "    </tr>\n",
       "    <tr>\n",
       "      <th>2</th>\n",
       "      <td>5000.0</td>\n",
       "      <td>17.97</td>\n",
       "      <td>0</td>\n",
       "      <td>62000.0</td>\n",
       "      <td>0</td>\n",
       "      <td>19.82</td>\n",
       "      <td>0.0</td>\n",
       "      <td>8.0</td>\n",
       "      <td>0</td>\n",
       "      <td>0</td>\n",
       "      <td>...</td>\n",
       "      <td>0</td>\n",
       "      <td>0</td>\n",
       "      <td>0</td>\n",
       "      <td>0</td>\n",
       "      <td>1</td>\n",
       "      <td>0</td>\n",
       "      <td>0</td>\n",
       "      <td>0</td>\n",
       "      <td>0</td>\n",
       "      <td>1</td>\n",
       "    </tr>\n",
       "    <tr>\n",
       "      <th>3</th>\n",
       "      <td>20000.0</td>\n",
       "      <td>8.19</td>\n",
       "      <td>1</td>\n",
       "      <td>200000.0</td>\n",
       "      <td>0</td>\n",
       "      <td>22.66</td>\n",
       "      <td>0.0</td>\n",
       "      <td>20.0</td>\n",
       "      <td>0</td>\n",
       "      <td>1</td>\n",
       "      <td>...</td>\n",
       "      <td>0</td>\n",
       "      <td>0</td>\n",
       "      <td>0</td>\n",
       "      <td>0</td>\n",
       "      <td>1</td>\n",
       "      <td>0</td>\n",
       "      <td>0</td>\n",
       "      <td>0</td>\n",
       "      <td>0</td>\n",
       "      <td>1</td>\n",
       "    </tr>\n",
       "    <tr>\n",
       "      <th>4</th>\n",
       "      <td>13500.0</td>\n",
       "      <td>7.56</td>\n",
       "      <td>8</td>\n",
       "      <td>34860.0</td>\n",
       "      <td>0</td>\n",
       "      <td>10.91</td>\n",
       "      <td>0.0</td>\n",
       "      <td>9.0</td>\n",
       "      <td>0</td>\n",
       "      <td>1</td>\n",
       "      <td>...</td>\n",
       "      <td>0</td>\n",
       "      <td>0</td>\n",
       "      <td>0</td>\n",
       "      <td>0</td>\n",
       "      <td>0</td>\n",
       "      <td>0</td>\n",
       "      <td>0</td>\n",
       "      <td>1</td>\n",
       "      <td>1</td>\n",
       "      <td>0</td>\n",
       "    </tr>\n",
       "  </tbody>\n",
       "</table>\n",
       "<p>5 rows × 27 columns</p>\n",
       "</div>"
      ],
      "text/plain": [
       "   loan_amnt  int_rate  emp_length  annual_inc  loan_status    dti  tax_liens  \\\n",
       "0    20000.0     17.19           6     47000.0            0  14.02        0.0   \n",
       "1    21225.0     14.74          10    225000.0            0  16.80        0.0   \n",
       "2     5000.0     17.97           0     62000.0            0  19.82        0.0   \n",
       "3    20000.0      8.19           1    200000.0            0  22.66        0.0   \n",
       "4    13500.0      7.56           8     34860.0            0  10.91        0.0   \n",
       "\n",
       "   open_acc  purpose_car  purpose_credit_card  ...  purpose_renewable_energy  \\\n",
       "0      15.0            0                    0  ...                         0   \n",
       "1      14.0            0                    1  ...                         0   \n",
       "2       8.0            0                    0  ...                         0   \n",
       "3      20.0            0                    1  ...                         0   \n",
       "4       9.0            0                    1  ...                         0   \n",
       "\n",
       "   purpose_small_business  purpose_vacation  home_ownership_ANY  \\\n",
       "0                       0                 0                   0   \n",
       "1                       0                 0                   0   \n",
       "2                       0                 0                   0   \n",
       "3                       0                 0                   0   \n",
       "4                       0                 0                   0   \n",
       "\n",
       "   home_ownership_MORTGAGE  home_ownership_NONE  home_ownership_OWN  \\\n",
       "0                        0                    0                   0   \n",
       "1                        1                    0                   0   \n",
       "2                        1                    0                   0   \n",
       "3                        1                    0                   0   \n",
       "4                        0                    0                   0   \n",
       "\n",
       "   home_ownership_RENT  delinq_last_3_year_N  delinq_last_3_year_Y  \n",
       "0                    1                     1                     0  \n",
       "1                    0                     1                     0  \n",
       "2                    0                     0                     1  \n",
       "3                    0                     0                     1  \n",
       "4                    1                     1                     0  \n",
       "\n",
       "[5 rows x 27 columns]"
      ]
     },
     "execution_count": 388,
     "metadata": {},
     "output_type": "execute_result"
    }
   ],
   "source": [
    "loan_final.head()"
   ]
  },
  {
   "cell_type": "code",
   "execution_count": 389,
   "metadata": {},
   "outputs": [
    {
     "data": {
      "text/plain": [
       "0    114270\n",
       "1      1148\n",
       "Name: loan_status, dtype: int64"
      ]
     },
     "execution_count": 389,
     "metadata": {},
     "output_type": "execute_result"
    }
   ],
   "source": [
    "loan_final['loan_status'].value_counts()"
   ]
  },
  {
   "cell_type": "markdown",
   "metadata": {},
   "source": [
    "# Logistic Regression"
   ]
  },
  {
   "cell_type": "markdown",
   "metadata": {},
   "source": [
    "train a logistic regression"
   ]
  },
  {
   "cell_type": "code",
   "execution_count": 390,
   "metadata": {},
   "outputs": [],
   "source": [
    "X=loan_final.drop('loan_status',axis=1)\n",
    "y=loan_final['loan_status']"
   ]
  },
  {
   "cell_type": "code",
   "execution_count": 391,
   "metadata": {},
   "outputs": [],
   "source": [
    "from sklearn.model_selection import train_test_split"
   ]
  },
  {
   "cell_type": "code",
   "execution_count": 392,
   "metadata": {},
   "outputs": [],
   "source": [
    "X_train, X_test, y_train, y_test = train_test_split(X, y, test_size=0.25, random_state=42)"
   ]
  },
  {
   "cell_type": "code",
   "execution_count": 393,
   "metadata": {},
   "outputs": [],
   "source": [
    "from sklearn.linear_model import LogisticRegression"
   ]
  },
  {
   "cell_type": "code",
   "execution_count": 394,
   "metadata": {},
   "outputs": [
    {
     "data": {
      "text/plain": [
       "LogisticRegression()"
      ]
     },
     "execution_count": 394,
     "metadata": {},
     "output_type": "execute_result"
    }
   ],
   "source": [
    "clf_logistic=LogisticRegression(solver='lbfgs')\n",
    "clf_logistic.fit(X_train,np.ravel(y_train))"
   ]
  },
  {
   "cell_type": "code",
   "execution_count": 395,
   "metadata": {},
   "outputs": [],
   "source": [
    "preds=clf_logistic.predict_proba(X_test)\n",
    "preds_df = pd.DataFrame(preds[:,1], columns = ['prob_default'])"
   ]
  },
  {
   "cell_type": "markdown",
   "metadata": {},
   "source": [
    "assign loan performance prediction based on threshold"
   ]
  },
  {
   "cell_type": "code",
   "execution_count": 396,
   "metadata": {},
   "outputs": [],
   "source": [
    "preds_df['loan_status'] = preds_df['prob_default'].apply(lambda x: 1 if x > 0.4 else 0)"
   ]
  },
  {
   "cell_type": "markdown",
   "metadata": {},
   "source": [
    "evaluate model performance"
   ]
  },
  {
   "cell_type": "code",
   "execution_count": 397,
   "metadata": {},
   "outputs": [
    {
     "name": "stdout",
     "output_type": "stream",
     "text": [
      "              precision    recall  f1-score   support\n",
      "\n",
      "           0       0.99      1.00      1.00     28584\n",
      "           1       0.00      0.00      0.00       271\n",
      "\n",
      "    accuracy                           0.99     28855\n",
      "   macro avg       0.50      0.50      0.50     28855\n",
      "weighted avg       0.98      0.99      0.99     28855\n",
      "\n"
     ]
    },
    {
     "name": "stderr",
     "output_type": "stream",
     "text": [
      "/Users/wensun/opt/anaconda3/lib/python3.8/site-packages/sklearn/metrics/_classification.py:1221: UndefinedMetricWarning: Precision and F-score are ill-defined and being set to 0.0 in labels with no predicted samples. Use `zero_division` parameter to control this behavior.\n",
      "  _warn_prf(average, modifier, msg_start, len(result))\n"
     ]
    }
   ],
   "source": [
    "from sklearn.metrics import classification_report \n",
    "print(classification_report(y_test,preds_df['loan_status']))"
   ]
  },
  {
   "cell_type": "markdown",
   "metadata": {},
   "source": [
    "Undersampling strategy"
   ]
  },
  {
   "cell_type": "code",
   "execution_count": 399,
   "metadata": {},
   "outputs": [],
   "source": [
    "X_y_train=pd.concat([X_train.reset_index(drop=True),y_train.reset_index(drop=True)],axis=1)\n",
    "count_nondefault,count_default=X_y_train['loan_status'].value_counts()\n",
    "nondefaults=X_y_train[X_y_train['loan_status']==0]\n",
    "defaults=X_y_train[X_y_train['loan_status']==1]\n",
    "nondefaults_under=nondefaults.sample(count_default)\n",
    "X_y_train_under=pd.concat([nondefaults_under.reset_index(drop=True),defaults.reset_index(drop=True)],axis=0)"
   ]
  },
  {
   "cell_type": "code",
   "execution_count": 400,
   "metadata": {},
   "outputs": [],
   "source": [
    "X_under=X_y_train_under.drop('loan_status',axis=1)\n",
    "y_under=X_y_train_under['loan_status']"
   ]
  },
  {
   "cell_type": "code",
   "execution_count": 401,
   "metadata": {},
   "outputs": [],
   "source": [
    "clf_logistic.fit(X_under,np.ravel(y_under))\n",
    "preds=clf_logistic.predict_proba(X_test)\n",
    "preds_under=pd.DataFrame(preds[:,1], columns = ['prob_default'])"
   ]
  },
  {
   "cell_type": "code",
   "execution_count": 425,
   "metadata": {},
   "outputs": [
    {
     "name": "stdout",
     "output_type": "stream",
     "text": [
      "              precision    recall  f1-score   support\n",
      "\n",
      "           0       0.99      0.03      0.07     28584\n",
      "           1       0.01      0.98      0.02       271\n",
      "\n",
      "    accuracy                           0.04     28855\n",
      "   macro avg       0.50      0.51      0.04     28855\n",
      "weighted avg       0.98      0.04      0.06     28855\n",
      "\n"
     ]
    }
   ],
   "source": [
    "preds_under['loan_status'] = preds_under['prob_default'].apply(lambda x: 1 if x > 0.5 else 0)\n",
    "print(classification_report(y_test,preds_under['loan_status']))"
   ]
  },
  {
   "cell_type": "markdown",
   "metadata": {},
   "source": [
    "# Gradient boosted trees with XGBoost"
   ]
  },
  {
   "cell_type": "code",
   "execution_count": 426,
   "metadata": {},
   "outputs": [],
   "source": [
    "import xgboost as xgb\n",
    "clf_gbt=xgb.XGBClassifier(learning_rate=0.2,max_depth=4)"
   ]
  },
  {
   "cell_type": "code",
   "execution_count": 427,
   "metadata": {},
   "outputs": [
    {
     "name": "stdout",
     "output_type": "stream",
     "text": [
      "[15:59:51] WARNING: /opt/concourse/worker/volumes/live/7a2b9f41-3287-451b-6691-43e9a6c0910f/volume/xgboost-split_1619728204606/work/src/learner.cc:1061: Starting in XGBoost 1.3.0, the default evaluation metric used with the objective 'binary:logistic' was changed from 'error' to 'logloss'. Explicitly set eval_metric if you'd like to restore the old behavior.\n"
     ]
    },
    {
     "name": "stderr",
     "output_type": "stream",
     "text": [
      "/Users/wensun/opt/anaconda3/lib/python3.8/site-packages/xgboost/sklearn.py:888: UserWarning: The use of label encoder in XGBClassifier is deprecated and will be removed in a future release. To remove this warning, do the following: 1) Pass option use_label_encoder=False when constructing XGBClassifier object; and 2) Encode your labels (y) as integers starting with 0, i.e. 0, 1, 2, ..., [num_class - 1].\n",
      "  warnings.warn(label_encoder_deprecation_msg, UserWarning)\n"
     ]
    },
    {
     "data": {
      "text/plain": [
       "XGBClassifier(base_score=0.5, booster='gbtree', colsample_bylevel=1,\n",
       "              colsample_bynode=1, colsample_bytree=1, gamma=0, gpu_id=-1,\n",
       "              importance_type='gain', interaction_constraints='',\n",
       "              learning_rate=0.2, max_delta_step=0, max_depth=4,\n",
       "              min_child_weight=1, missing=nan, monotone_constraints='()',\n",
       "              n_estimators=100, n_jobs=8, num_parallel_tree=1, random_state=0,\n",
       "              reg_alpha=0, reg_lambda=1, scale_pos_weight=1, subsample=1,\n",
       "              tree_method='exact', validate_parameters=1, verbosity=None)"
      ]
     },
     "execution_count": 427,
     "metadata": {},
     "output_type": "execute_result"
    }
   ],
   "source": [
    "clf_gbt.fit(X_under,np.ravel(y_under))"
   ]
  },
  {
   "cell_type": "code",
   "execution_count": 428,
   "metadata": {},
   "outputs": [
    {
     "data": {
      "text/plain": [
       "<AxesSubplot:title={'center':'Feature importance'}, xlabel='F score', ylabel='Features'>"
      ]
     },
     "execution_count": 428,
     "metadata": {},
     "output_type": "execute_result"
    },
    {
     "data": {
      "image/png": "[encoded data removed]",
      "text/plain": [
       "<Figure size 432x288 with 1 Axes>"
      ]
     },
     "metadata": {},
     "output_type": "display_data"
    }
   ],
   "source": [
    "xgb.plot_importance(clf_gbt,importance_type='weight')"
   ]
  },
  {
   "cell_type": "code",
   "execution_count": 429,
   "metadata": {},
   "outputs": [],
   "source": [
    "preds=clf_gbt.predict_proba(X_test)\n",
    "xgb_preds=pd.DataFrame(preds[:,1], columns = ['prob_default'])"
   ]
  },
  {
   "cell_type": "code",
   "execution_count": 430,
   "metadata": {},
   "outputs": [],
   "source": [
    "xgb_preds['pred_loan_status'] = xgb_preds['prob_default'].apply(lambda x: 1 if x > 0.4 else 0)"
   ]
  },
  {
   "cell_type": "code",
   "execution_count": 431,
   "metadata": {},
   "outputs": [],
   "source": [
    "xgb_comparison=pd.concat([y_test.reset_index(drop=True),xgb_preds],axis=1)"
   ]
  },
  {
   "cell_type": "code",
   "execution_count": 432,
   "metadata": {},
   "outputs": [
    {
     "data": {
      "text/html": [
       "<div>\n",
       "<style scoped>\n",
       "    .dataframe tbody tr th:only-of-type {\n",
       "        vertical-align: middle;\n",
       "    }\n",
       "\n",
       "    .dataframe tbody tr th {\n",
       "        vertical-align: top;\n",
       "    }\n",
       "\n",
       "    .dataframe thead th {\n",
       "        text-align: right;\n",
       "    }\n",
       "</style>\n",
       "<table border=\"1\" class=\"dataframe\">\n",
       "  <thead>\n",
       "    <tr style=\"text-align: right;\">\n",
       "      <th></th>\n",
       "      <th>loan_status</th>\n",
       "      <th>prob_default</th>\n",
       "      <th>pred_loan_status</th>\n",
       "    </tr>\n",
       "  </thead>\n",
       "  <tbody>\n",
       "    <tr>\n",
       "      <th>0</th>\n",
       "      <td>0</td>\n",
       "      <td>0.382772</td>\n",
       "      <td>0</td>\n",
       "    </tr>\n",
       "    <tr>\n",
       "      <th>1</th>\n",
       "      <td>0</td>\n",
       "      <td>0.489294</td>\n",
       "      <td>1</td>\n",
       "    </tr>\n",
       "    <tr>\n",
       "      <th>2</th>\n",
       "      <td>0</td>\n",
       "      <td>0.683639</td>\n",
       "      <td>1</td>\n",
       "    </tr>\n",
       "    <tr>\n",
       "      <th>3</th>\n",
       "      <td>0</td>\n",
       "      <td>0.641958</td>\n",
       "      <td>1</td>\n",
       "    </tr>\n",
       "    <tr>\n",
       "      <th>4</th>\n",
       "      <td>0</td>\n",
       "      <td>0.431400</td>\n",
       "      <td>1</td>\n",
       "    </tr>\n",
       "    <tr>\n",
       "      <th>...</th>\n",
       "      <td>...</td>\n",
       "      <td>...</td>\n",
       "      <td>...</td>\n",
       "    </tr>\n",
       "    <tr>\n",
       "      <th>28850</th>\n",
       "      <td>0</td>\n",
       "      <td>0.187320</td>\n",
       "      <td>0</td>\n",
       "    </tr>\n",
       "    <tr>\n",
       "      <th>28851</th>\n",
       "      <td>0</td>\n",
       "      <td>0.494772</td>\n",
       "      <td>1</td>\n",
       "    </tr>\n",
       "    <tr>\n",
       "      <th>28852</th>\n",
       "      <td>0</td>\n",
       "      <td>0.105823</td>\n",
       "      <td>0</td>\n",
       "    </tr>\n",
       "    <tr>\n",
       "      <th>28853</th>\n",
       "      <td>0</td>\n",
       "      <td>0.511510</td>\n",
       "      <td>1</td>\n",
       "    </tr>\n",
       "    <tr>\n",
       "      <th>28854</th>\n",
       "      <td>0</td>\n",
       "      <td>0.404954</td>\n",
       "      <td>1</td>\n",
       "    </tr>\n",
       "  </tbody>\n",
       "</table>\n",
       "<p>28855 rows × 3 columns</p>\n",
       "</div>"
      ],
      "text/plain": [
       "       loan_status  prob_default  pred_loan_status\n",
       "0                0      0.382772                 0\n",
       "1                0      0.489294                 1\n",
       "2                0      0.683639                 1\n",
       "3                0      0.641958                 1\n",
       "4                0      0.431400                 1\n",
       "...            ...           ...               ...\n",
       "28850            0      0.187320                 0\n",
       "28851            0      0.494772                 1\n",
       "28852            0      0.105823                 0\n",
       "28853            0      0.511510                 1\n",
       "28854            0      0.404954                 1\n",
       "\n",
       "[28855 rows x 3 columns]"
      ]
     },
     "execution_count": 432,
     "metadata": {},
     "output_type": "execute_result"
    }
   ],
   "source": [
    "xgb_comparison"
   ]
  },
  {
   "cell_type": "code",
   "execution_count": 433,
   "metadata": {},
   "outputs": [
    {
     "data": {
      "text/plain": [
       "1    199\n",
       "0     72\n",
       "Name: pred_loan_status, dtype: int64"
      ]
     },
     "execution_count": 433,
     "metadata": {},
     "output_type": "execute_result"
    }
   ],
   "source": [
    "xgb_comparison[xgb_comparison['loan_status']==1]['pred_loan_status'].value_counts()"
   ]
  },
  {
   "cell_type": "code",
   "execution_count": 434,
   "metadata": {},
   "outputs": [
    {
     "name": "stdout",
     "output_type": "stream",
     "text": [
      "              precision    recall  f1-score   support\n",
      "\n",
      "           0       0.99      0.50      0.67     28584\n",
      "           1       0.01      0.73      0.03       271\n",
      "\n",
      "    accuracy                           0.50     28855\n",
      "   macro avg       0.50      0.62      0.35     28855\n",
      "weighted avg       0.99      0.50      0.66     28855\n",
      "\n"
     ]
    }
   ],
   "source": [
    "print(classification_report(y_test,xgb_preds['pred_loan_status']))"
   ]
  },
  {
   "cell_type": "markdown",
   "metadata": {},
   "source": [
    "# Set up strategy table"
   ]
  },
  {
   "cell_type": "code",
   "execution_count": 435,
   "metadata": {},
   "outputs": [],
   "source": [
    "accept_rates=[1.0,0.95,0.9,0.85,0.8,0.75,0.7,0.65,0.6,0.55,0.5,0.45,0.4,0.35,0.3,0.25,0.2,0.15,0.1]\n",
    "thresholds=[]\n",
    "bad_rates=[]"
   ]
  },
  {
   "cell_type": "code",
   "execution_count": 436,
   "metadata": {},
   "outputs": [],
   "source": [
    "for rate in accept_rates:\n",
    "    thres=np.quantile(xgb_comparison['prob_default'],rate).round(3)\n",
    "    thresholds.append(np.quantile(xgb_comparison['prob_default'],rate).round(3))\n",
    "    xgb_comparison['pred_loan_status']=xgb_comparison['prob_default'].apply(lambda x:1 if x > thres else 0)\n",
    "    accepted_loans = xgb_comparison[xgb_comparison['pred_loan_status'] == 0]\n",
    "    \n",
    "    bad_rates.append(np.sum((accepted_loans['loan_status']) / len(accepted_loans['loan_status'])).round(3))"
   ]
  },
  {
   "cell_type": "code",
   "execution_count": 437,
   "metadata": {},
   "outputs": [
    {
     "data": {
      "text/html": [
       "<div>\n",
       "<style scoped>\n",
       "    .dataframe tbody tr th:only-of-type {\n",
       "        vertical-align: middle;\n",
       "    }\n",
       "\n",
       "    .dataframe tbody tr th {\n",
       "        vertical-align: top;\n",
       "    }\n",
       "\n",
       "    .dataframe thead th {\n",
       "        text-align: right;\n",
       "    }\n",
       "</style>\n",
       "<table border=\"1\" class=\"dataframe\">\n",
       "  <thead>\n",
       "    <tr style=\"text-align: right;\">\n",
       "      <th></th>\n",
       "      <th>accept_rates</th>\n",
       "      <th>thresholds</th>\n",
       "      <th>bad_rates</th>\n",
       "    </tr>\n",
       "  </thead>\n",
       "  <tbody>\n",
       "    <tr>\n",
       "      <th>0</th>\n",
       "      <td>1.00</td>\n",
       "      <td>0.997</td>\n",
       "      <td>0.009</td>\n",
       "    </tr>\n",
       "    <tr>\n",
       "      <th>1</th>\n",
       "      <td>0.95</td>\n",
       "      <td>0.834</td>\n",
       "      <td>0.009</td>\n",
       "    </tr>\n",
       "    <tr>\n",
       "      <th>2</th>\n",
       "      <td>0.90</td>\n",
       "      <td>0.746</td>\n",
       "      <td>0.008</td>\n",
       "    </tr>\n",
       "    <tr>\n",
       "      <th>3</th>\n",
       "      <td>0.85</td>\n",
       "      <td>0.682</td>\n",
       "      <td>0.008</td>\n",
       "    </tr>\n",
       "    <tr>\n",
       "      <th>4</th>\n",
       "      <td>0.80</td>\n",
       "      <td>0.627</td>\n",
       "      <td>0.007</td>\n",
       "    </tr>\n",
       "    <tr>\n",
       "      <th>5</th>\n",
       "      <td>0.75</td>\n",
       "      <td>0.579</td>\n",
       "      <td>0.007</td>\n",
       "    </tr>\n",
       "    <tr>\n",
       "      <th>6</th>\n",
       "      <td>0.70</td>\n",
       "      <td>0.536</td>\n",
       "      <td>0.006</td>\n",
       "    </tr>\n",
       "    <tr>\n",
       "      <th>7</th>\n",
       "      <td>0.65</td>\n",
       "      <td>0.499</td>\n",
       "      <td>0.006</td>\n",
       "    </tr>\n",
       "    <tr>\n",
       "      <th>8</th>\n",
       "      <td>0.60</td>\n",
       "      <td>0.464</td>\n",
       "      <td>0.006</td>\n",
       "    </tr>\n",
       "    <tr>\n",
       "      <th>9</th>\n",
       "      <td>0.55</td>\n",
       "      <td>0.433</td>\n",
       "      <td>0.005</td>\n",
       "    </tr>\n",
       "    <tr>\n",
       "      <th>10</th>\n",
       "      <td>0.50</td>\n",
       "      <td>0.401</td>\n",
       "      <td>0.005</td>\n",
       "    </tr>\n",
       "    <tr>\n",
       "      <th>11</th>\n",
       "      <td>0.45</td>\n",
       "      <td>0.371</td>\n",
       "      <td>0.004</td>\n",
       "    </tr>\n",
       "    <tr>\n",
       "      <th>12</th>\n",
       "      <td>0.40</td>\n",
       "      <td>0.341</td>\n",
       "      <td>0.004</td>\n",
       "    </tr>\n",
       "    <tr>\n",
       "      <th>13</th>\n",
       "      <td>0.35</td>\n",
       "      <td>0.313</td>\n",
       "      <td>0.004</td>\n",
       "    </tr>\n",
       "    <tr>\n",
       "      <th>14</th>\n",
       "      <td>0.30</td>\n",
       "      <td>0.284</td>\n",
       "      <td>0.004</td>\n",
       "    </tr>\n",
       "    <tr>\n",
       "      <th>15</th>\n",
       "      <td>0.25</td>\n",
       "      <td>0.257</td>\n",
       "      <td>0.003</td>\n",
       "    </tr>\n",
       "    <tr>\n",
       "      <th>16</th>\n",
       "      <td>0.20</td>\n",
       "      <td>0.228</td>\n",
       "      <td>0.004</td>\n",
       "    </tr>\n",
       "    <tr>\n",
       "      <th>17</th>\n",
       "      <td>0.15</td>\n",
       "      <td>0.198</td>\n",
       "      <td>0.004</td>\n",
       "    </tr>\n",
       "    <tr>\n",
       "      <th>18</th>\n",
       "      <td>0.10</td>\n",
       "      <td>0.162</td>\n",
       "      <td>0.005</td>\n",
       "    </tr>\n",
       "  </tbody>\n",
       "</table>\n",
       "</div>"
      ],
      "text/plain": [
       "    accept_rates  thresholds  bad_rates\n",
       "0           1.00       0.997      0.009\n",
       "1           0.95       0.834      0.009\n",
       "2           0.90       0.746      0.008\n",
       "3           0.85       0.682      0.008\n",
       "4           0.80       0.627      0.007\n",
       "5           0.75       0.579      0.007\n",
       "6           0.70       0.536      0.006\n",
       "7           0.65       0.499      0.006\n",
       "8           0.60       0.464      0.006\n",
       "9           0.55       0.433      0.005\n",
       "10          0.50       0.401      0.005\n",
       "11          0.45       0.371      0.004\n",
       "12          0.40       0.341      0.004\n",
       "13          0.35       0.313      0.004\n",
       "14          0.30       0.284      0.004\n",
       "15          0.25       0.257      0.003\n",
       "16          0.20       0.228      0.004\n",
       "17          0.15       0.198      0.004\n",
       "18          0.10       0.162      0.005"
      ]
     },
     "execution_count": 437,
     "metadata": {},
     "output_type": "execute_result"
    }
   ],
   "source": [
    "pd.DataFrame({'accept_rates':accept_rates,'thresholds':thresholds, 'bad_rates':bad_rates})"
   ]
  },
  {
   "cell_type": "code",
   "execution_count": null,
   "metadata": {},
   "outputs": [],
   "source": []
  }
 ],
 "metadata": {
  "kernelspec": {
   "display_name": "Python 3",
   "language": "python",
   "name": "python3"
  },
  "language_info": {
   "codemirror_mode": {
    "name": "ipython",
    "version": 3
   },
   "file_extension": ".py",
   "mimetype": "text/x-python",
   "name": "python",
   "nbconvert_exporter": "python",
   "pygments_lexer": "ipython3",
   "version": "3.8.5"
  }
 },
 "nbformat": 4,
 "nbformat_minor": 4
}
